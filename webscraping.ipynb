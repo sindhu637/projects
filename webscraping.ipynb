{
  "nbformat": 4,
  "nbformat_minor": 0,
  "metadata": {
    "colab": {
      "name": "webscraping.ipynb",
      "provenance": [],
      "collapsed_sections": [],
      "authorship_tag": "ABX9TyOr5BkcaV6NTc5JjRhuDODc",
      "include_colab_link": true
    },
    "kernelspec": {
      "name": "python3",
      "display_name": "Python 3"
    }
  },
  "cells": [
    {
      "cell_type": "markdown",
      "metadata": {
        "id": "view-in-github",
        "colab_type": "text"
      },
      "source": [
        "<a href=\"https://colab.research.google.com/github/sindhu637/webscraping/blob/main/webscraping.ipynb\" target=\"_parent\"><img src=\"https://colab.research.google.com/assets/colab-badge.svg\" alt=\"Open In Colab\"/></a>"
      ]
    },
    {
      "cell_type": "code",
      "metadata": {
        "id": "qNY4n04OCL1J"
      },
      "source": [
        "#import package\r\n",
        "import requests\r\n",
        "from bs4 import BeautifulSoup"
      ],
      "execution_count": null,
      "outputs": []
    },
    {
      "cell_type": "code",
      "metadata": {
        "colab": {
          "base_uri": "https://localhost:8080/"
        },
        "id": "44ulXratF8zx",
        "outputId": "019ea419-3316-48a7-b60f-62eab54825f4"
      },
      "source": [
        "url=\"https://www.makaan.com/hyderabad-residential-property/buy-property-in-hyderabad-city\"\r\n",
        "response = requests.get(url)\r\n",
        "print(response)"
      ],
      "execution_count": null,
      "outputs": [
        {
          "output_type": "stream",
          "text": [
            "<Response [200]>\n"
          ],
          "name": "stdout"
        }
      ]
    },
    {
      "cell_type": "code",
      "metadata": {
        "id": "g-Ai2WsBGSKx"
      },
      "source": [
        "#store the response text in the soup object\r\n",
        "soup = BeautifulSoup(response.text,\"html.parser\")\r\n",
        "print(soup.prettify())"
      ],
      "execution_count": null,
      "outputs": []
    },
    {
      "cell_type": "code",
      "metadata": {
        "id": "1Kny2Tv8Gtqo",
        "colab": {
          "base_uri": "https://localhost:8080/"
        },
        "outputId": "b18d8db0-e758-4c12-810f-5cc0d434351e"
      },
      "source": [
        "s_info = soup.find_all('span',attrs = {'class':'seller-type'})\r\n",
        "print(f'Type of s_info is {type(s_info)}\\nThe length of s_info is {len(s_info)}')"
      ],
      "execution_count": 20,
      "outputs": [
        {
          "output_type": "stream",
          "text": [
            "Type of s_info is <class 'bs4.element.ResultSet'>\n",
            "The length of s_info is 20\n"
          ],
          "name": "stdout"
        }
      ]
    },
    {
      "cell_type": "code",
      "metadata": {
        "id": "ZZvO0FU4Hdr2"
      },
      "source": [
        "s_info"
      ],
      "execution_count": null,
      "outputs": []
    },
    {
      "cell_type": "code",
      "metadata": {
        "id": "-KN1Dk9-M7-A"
      },
      "source": [
        "seller_info = []\r\n",
        "for s in s_info:\r\n",
        "  seller_info.append(s.text)\r\n",
        "\r\n",
        "seller_info"
      ],
      "execution_count": null,
      "outputs": []
    },
    {
      "cell_type": "code",
      "metadata": {
        "id": "AZdciWoKFaTF"
      },
      "source": [
        "a_tag = soup.find_all('a',attrs = {'class' : 'typelink'})\r\n",
        "bhk = []\r\n",
        "for i in a_tag:\r\n",
        "  bhk.append(i.span.text)\r\n",
        "bhk"
      ],
      "execution_count": null,
      "outputs": []
    },
    {
      "cell_type": "code",
      "metadata": {
        "colab": {
          "base_uri": "https://localhost:8080/"
        },
        "id": "acrW4qWNF1US",
        "outputId": "ad9bb878-6a2f-4115-e26e-0e69e14fb376"
      },
      "source": [
        "l_tag = soup.find_all('span',attrs={'itemprop' : 'addressLocality'})\r\n",
        "\r\n",
        "local = []\r\n",
        "\r\n",
        "for l in l_tag:\r\n",
        "  local.append(l.text)\r\n",
        "\r\n",
        "local"
      ],
      "execution_count": 51,
      "outputs": [
        {
          "output_type": "execute_result",
          "data": {
            "text/plain": [
              "['Kollur',\n",
              " 'Bairagiguda',\n",
              " 'Sainikpuri',\n",
              " 'Kothapet',\n",
              " 'Badangpet',\n",
              " 'Kollur',\n",
              " 'Kompally',\n",
              " 'Toli Chowki',\n",
              " 'Shankarpally Road',\n",
              " 'Bollaram',\n",
              " 'Chandanagar',\n",
              " 'Mokila',\n",
              " 'Gachibowli',\n",
              " 'Kukatpally',\n",
              " 'Kollur',\n",
              " 'Kondapur',\n",
              " 'Chengicherla',\n",
              " 'Shamirpet',\n",
              " 'Pocharam',\n",
              " 'Chandanagar']"
            ]
          },
          "metadata": {
            "tags": []
          },
          "execution_count": 51
        }
      ]
    },
    {
      "cell_type": "code",
      "metadata": {
        "id": "7WJIbpD6Jq5K"
      },
      "source": [
        "p_tags = soup.find_all('div',attrs = {'data-type' : 'price-link'})\r\n",
        "\r\n",
        "prices = []\r\n",
        "\r\n",
        "for p in p_tags:\r\n",
        "  prices.append(p.text)\r\n",
        "\r\n",
        "prices"
      ],
      "execution_count": null,
      "outputs": []
    },
    {
      "cell_type": "code",
      "metadata": {
        "colab": {
          "base_uri": "https://localhost:8080/",
          "height": 648
        },
        "id": "gC166VkESJn-",
        "outputId": "3ee92744-89bf-483f-e5f0-374ac911620c"
      },
      "source": [
        "import pandas as pd\r\n",
        "pd.DataFrame({'Owner' : seller_info,\r\n",
        "              'No. of BHK' : bhk,\r\n",
        "              'Locality' : local,\r\n",
        "              'prices' : prices})"
      ],
      "execution_count": 80,
      "outputs": [
        {
          "output_type": "execute_result",
          "data": {
            "text/html": [
              "<div>\n",
              "<style scoped>\n",
              "    .dataframe tbody tr th:only-of-type {\n",
              "        vertical-align: middle;\n",
              "    }\n",
              "\n",
              "    .dataframe tbody tr th {\n",
              "        vertical-align: top;\n",
              "    }\n",
              "\n",
              "    .dataframe thead th {\n",
              "        text-align: right;\n",
              "    }\n",
              "</style>\n",
              "<table border=\"1\" class=\"dataframe\">\n",
              "  <thead>\n",
              "    <tr style=\"text-align: right;\">\n",
              "      <th></th>\n",
              "      <th>Owner</th>\n",
              "      <th>No. of BHK</th>\n",
              "      <th>Locality</th>\n",
              "      <th>prices</th>\n",
              "    </tr>\n",
              "  </thead>\n",
              "  <tbody>\n",
              "    <tr>\n",
              "      <th>0</th>\n",
              "      <td>OWNER</td>\n",
              "      <td>3</td>\n",
              "      <td>Kollur</td>\n",
              "      <td>1.45 Cr</td>\n",
              "    </tr>\n",
              "    <tr>\n",
              "      <th>1</th>\n",
              "      <td>OWNER</td>\n",
              "      <td>4</td>\n",
              "      <td>Bairagiguda</td>\n",
              "      <td>1.05 Cr</td>\n",
              "    </tr>\n",
              "    <tr>\n",
              "      <th>2</th>\n",
              "      <td>OWNER</td>\n",
              "      <td>2</td>\n",
              "      <td>Sainikpuri</td>\n",
              "      <td>63 L</td>\n",
              "    </tr>\n",
              "    <tr>\n",
              "      <th>3</th>\n",
              "      <td>OWNER</td>\n",
              "      <td>2</td>\n",
              "      <td>Kothapet</td>\n",
              "      <td>36 L</td>\n",
              "    </tr>\n",
              "    <tr>\n",
              "      <th>4</th>\n",
              "      <td>OWNER</td>\n",
              "      <td>2</td>\n",
              "      <td>Badangpet</td>\n",
              "      <td>45 L</td>\n",
              "    </tr>\n",
              "    <tr>\n",
              "      <th>5</th>\n",
              "      <td>OWNER</td>\n",
              "      <td>2</td>\n",
              "      <td>Kollur</td>\n",
              "      <td>42.5 L</td>\n",
              "    </tr>\n",
              "    <tr>\n",
              "      <th>6</th>\n",
              "      <td>OWNER</td>\n",
              "      <td>3</td>\n",
              "      <td>Kompally</td>\n",
              "      <td>48.5 L</td>\n",
              "    </tr>\n",
              "    <tr>\n",
              "      <th>7</th>\n",
              "      <td>OWNER</td>\n",
              "      <td>2</td>\n",
              "      <td>Toli Chowki</td>\n",
              "      <td>64 L</td>\n",
              "    </tr>\n",
              "    <tr>\n",
              "      <th>8</th>\n",
              "      <td>OWNER</td>\n",
              "      <td>3</td>\n",
              "      <td>Shankarpally Road</td>\n",
              "      <td>89.98 L</td>\n",
              "    </tr>\n",
              "    <tr>\n",
              "      <th>9</th>\n",
              "      <td>OWNER</td>\n",
              "      <td>4</td>\n",
              "      <td>Bollaram</td>\n",
              "      <td>1.53 Cr</td>\n",
              "    </tr>\n",
              "    <tr>\n",
              "      <th>10</th>\n",
              "      <td>OWNER</td>\n",
              "      <td>3</td>\n",
              "      <td>Chandanagar</td>\n",
              "      <td>39 L</td>\n",
              "    </tr>\n",
              "    <tr>\n",
              "      <th>11</th>\n",
              "      <td>OWNER</td>\n",
              "      <td>4</td>\n",
              "      <td>Mokila</td>\n",
              "      <td>2.5 Cr</td>\n",
              "    </tr>\n",
              "    <tr>\n",
              "      <th>12</th>\n",
              "      <td>OWNER</td>\n",
              "      <td>2</td>\n",
              "      <td>Gachibowli</td>\n",
              "      <td>88 L</td>\n",
              "    </tr>\n",
              "    <tr>\n",
              "      <th>13</th>\n",
              "      <td>OWNER</td>\n",
              "      <td>3</td>\n",
              "      <td>Kukatpally</td>\n",
              "      <td>1 Cr</td>\n",
              "    </tr>\n",
              "    <tr>\n",
              "      <th>14</th>\n",
              "      <td>OWNER</td>\n",
              "      <td>2</td>\n",
              "      <td>Kollur</td>\n",
              "      <td>25 L</td>\n",
              "    </tr>\n",
              "    <tr>\n",
              "      <th>15</th>\n",
              "      <td>OWNER</td>\n",
              "      <td>3</td>\n",
              "      <td>Kondapur</td>\n",
              "      <td>1.38 Cr</td>\n",
              "    </tr>\n",
              "    <tr>\n",
              "      <th>16</th>\n",
              "      <td>OWNER</td>\n",
              "      <td>3</td>\n",
              "      <td>Chengicherla</td>\n",
              "      <td>1.09 Cr</td>\n",
              "    </tr>\n",
              "    <tr>\n",
              "      <th>17</th>\n",
              "      <td>OWNER</td>\n",
              "      <td>Residential Plot</td>\n",
              "      <td>Shamirpet</td>\n",
              "      <td>67 L</td>\n",
              "    </tr>\n",
              "    <tr>\n",
              "      <th>18</th>\n",
              "      <td>OWNER</td>\n",
              "      <td>Residential Plot</td>\n",
              "      <td>Pocharam</td>\n",
              "      <td>75 L</td>\n",
              "    </tr>\n",
              "    <tr>\n",
              "      <th>19</th>\n",
              "      <td>OWNER</td>\n",
              "      <td>2</td>\n",
              "      <td>Chandanagar</td>\n",
              "      <td>77 L</td>\n",
              "    </tr>\n",
              "  </tbody>\n",
              "</table>\n",
              "</div>"
            ],
            "text/plain": [
              "    Owner        No. of BHK           Locality    prices\n",
              "0   OWNER                3              Kollur   1.45 Cr\n",
              "1   OWNER                4         Bairagiguda   1.05 Cr\n",
              "2   OWNER                2          Sainikpuri      63 L\n",
              "3   OWNER                2            Kothapet      36 L\n",
              "4   OWNER                2           Badangpet      45 L\n",
              "5   OWNER                2              Kollur    42.5 L\n",
              "6   OWNER                3            Kompally    48.5 L\n",
              "7   OWNER                2         Toli Chowki      64 L\n",
              "8   OWNER                3   Shankarpally Road   89.98 L\n",
              "9   OWNER                4            Bollaram   1.53 Cr\n",
              "10  OWNER                3         Chandanagar      39 L\n",
              "11  OWNER                4              Mokila    2.5 Cr\n",
              "12  OWNER                2          Gachibowli      88 L\n",
              "13  OWNER                3          Kukatpally      1 Cr\n",
              "14  OWNER                2              Kollur      25 L\n",
              "15  OWNER                3            Kondapur   1.38 Cr\n",
              "16  OWNER                3        Chengicherla   1.09 Cr\n",
              "17  OWNER  Residential Plot          Shamirpet      67 L\n",
              "18  OWNER  Residential Plot           Pocharam      75 L\n",
              "19  OWNER                2         Chandanagar      77 L"
            ]
          },
          "metadata": {
            "tags": []
          },
          "execution_count": 80
        }
      ]
    },
    {
      "cell_type": "code",
      "metadata": {
        "colab": {
          "base_uri": "https://localhost:8080/"
        },
        "id": "lt7Hdzv1SwGD",
        "outputId": "b9e57410-3af3-4ef9-dcc3-7e9b2ea3c24f"
      },
      "source": [
        "area = soup.find_all('td',attrs = {'class' : 'size'})\r\n",
        "\r\n",
        "A = []\r\n",
        "\r\n",
        "for j in area:\r\n",
        "  A.append(j.span.text)\r\n",
        "\r\n",
        "area"
      ],
      "execution_count": 116,
      "outputs": [
        {
          "output_type": "execute_result",
          "data": {
            "text/plain": [
              "[<td class=\"size\"><span class=\"val\">2230 </span></td>,\n",
              " <td class=\"size\"><span class=\"val\">2150 </span></td>,\n",
              " <td class=\"size\"><span class=\"val\">1300 </span></td>,\n",
              " <td class=\"size\"><span class=\"val\">650 </span></td>,\n",
              " <td class=\"size\"><span class=\"val\">900 </span></td>,\n",
              " <td class=\"size\"><span class=\"val\">1250 </span></td>,\n",
              " <td class=\"size\"><span class=\"val\">1580 </span></td>,\n",
              " <td class=\"size\"><span class=\"val\">1280 </span></td>,\n",
              " <td class=\"size\"><span class=\"val\">2200 </span></td>,\n",
              " <td class=\"size\"><span class=\"val\">3500 </span></td>,\n",
              " <td class=\"size\"><span class=\"val\">1425 </span></td>,\n",
              " <td class=\"size\"><span class=\"val\">3800 </span></td>,\n",
              " <td class=\"size\"><span class=\"val\">1257 </span></td>,\n",
              " <td class=\"size\"><span class=\"val\">1600 </span></td>,\n",
              " <td class=\"size\"><span class=\"val\">1040 </span></td>,\n",
              " <td class=\"size\"><span class=\"val\">2050 </span></td>,\n",
              " <td class=\"size\"><span class=\"val\">2800 </span></td>,\n",
              " <td class=\"size\"><span class=\"val\">1800 </span></td>,\n",
              " <td class=\"size\"><span class=\"val\">1500 </span></td>,\n",
              " <td class=\"size\"><span class=\"val\">1175 </span></td>]"
            ]
          },
          "metadata": {
            "tags": []
          },
          "execution_count": 116
        }
      ]
    },
    {
      "cell_type": "code",
      "metadata": {
        "colab": {
          "base_uri": "https://localhost:8080/"
        },
        "id": "JvdJXM-2TZM0",
        "outputId": "731d30f5-5b5e-4d69-a5ce-3b5afe7f2396"
      },
      "source": [
        "status = soup.find_all('td',attrs = {'class' : 'val'})\r\n",
        "\r\n",
        "B = []\r\n",
        "\r\n",
        "for b in status:\r\n",
        "  B.append(b.text)\r\n",
        "\r\n",
        "status"
      ],
      "execution_count": 121,
      "outputs": [
        {
          "output_type": "execute_result",
          "data": {
            "text/plain": [
              "[<td class=\"val\">Ready to move</td>,\n",
              " <td class=\"val\">Ready to move</td>,\n",
              " <td class=\"val\">Under Construction</td>,\n",
              " <td class=\"val\">Ready to move</td>,\n",
              " <td class=\"val\">Under Construction</td>,\n",
              " <td class=\"val\">Under Construction</td>,\n",
              " <td class=\"val\">Under Construction</td>,\n",
              " <td class=\"val\">Ready to move</td>,\n",
              " <td class=\"val\">Under Construction</td>,\n",
              " <td class=\"val\">Ready to move</td>,\n",
              " <td class=\"val\">Ready to move</td>,\n",
              " <td class=\"val\">Ready to move</td>,\n",
              " <td class=\"val\">Ready to move</td>,\n",
              " <td class=\"val\">Ready to move</td>,\n",
              " <td class=\"val\">Under Construction</td>,\n",
              " <td class=\"val\">Ready to move</td>,\n",
              " <td class=\"val\">Ready to move</td>,\n",
              " <td class=\"val\">Resale</td>,\n",
              " <td class=\"val\">Resale</td>,\n",
              " <td class=\"val\">Ready to move</td>]"
            ]
          },
          "metadata": {
            "tags": []
          },
          "execution_count": 121
        }
      ]
    },
    {
      "cell_type": "code",
      "metadata": {
        "colab": {
          "base_uri": "https://localhost:8080/"
        },
        "id": "s74I4LhoZM-Z",
        "outputId": "c6491fa1-b08d-4150-826e-c162fb05d95d"
      },
      "source": [
        "import time\r\n",
        "from IPython.display import clear_output\r\n",
        "\r\n",
        "base_url = 'https://www.makaan.com/hyderabad-residential-property/buy-property-in-hyderabad-city?page='\r\n",
        "\r\n",
        "seller_info= []\r\n",
        "bhk = []\r\n",
        "local = []\r\n",
        "\r\n",
        "start_time = time.time()\r\n",
        "for i in range(1,10):\r\n",
        "  page = i\r\n",
        "  print(f'going for {page}')\r\n",
        "\r\n",
        "  clear_output(wait=True)\r\n",
        "\r\n",
        "  time.sleep(0.25)\r\n",
        "\r\n",
        "  url = base_url+str(i)\r\n",
        "\r\n",
        "response = requests.get(url)\r\n",
        "\r\n",
        "\r\n",
        "soup = BeautifulSoup(response.text,'html.parser')\r\n",
        "s_info = soup.find_all('span',attrs= {'class' : 'seller-type'})\r\n",
        "\r\n",
        "  \r\n",
        "for s in s_info:\r\n",
        "  seller_info.append(s.text)\r\n",
        "\r\n",
        "  \r\n",
        "a_tag = soup.find_all('a',attrs={'class' : 'typelink'})\r\n",
        "for a in a_tag:\r\n",
        "  bhk.append(a.span.text)\r\n",
        "\r\n",
        "l_tag = soup.find_all('span',attrs={'itemprop' : 'addressLocality'})\r\n",
        "for l in l_tag:\r\n",
        "  local.append(l.text)\r\n",
        "\r\n",
        "end_time = time.time()\r\n",
        "print(f'Total time taken to scrape all pages {end_time - start_time}')"
      ],
      "execution_count": 129,
      "outputs": [
        {
          "output_type": "stream",
          "text": [
            "Total time taken to scrape all pages 4.087662220001221\n"
          ],
          "name": "stdout"
        }
      ]
    },
    {
      "cell_type": "code",
      "metadata": {
        "id": "KOw3J4VRbB1D"
      },
      "source": [
        ""
      ],
      "execution_count": 127,
      "outputs": []
    }
  ]
}