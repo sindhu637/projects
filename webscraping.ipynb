{
  "nbformat": 4,
  "nbformat_minor": 0,
  "metadata": {
    "colab": {
      "name": "webscraping.ipynb",
      "provenance": [],
      "collapsed_sections": [],
      "authorship_tag": "ABX9TyPY+16xuOYjCzOK/rXCtToo",
      "include_colab_link": true
    },
    "kernelspec": {
      "name": "python3",
      "display_name": "Python 3"
    }
  },
  "cells": [
    {
      "cell_type": "markdown",
      "metadata": {
        "id": "view-in-github",
        "colab_type": "text"
      },
      "source": [
        "<a href=\"https://colab.research.google.com/github/sindhu637/webscraping/blob/main/webscraping.ipynb\" target=\"_parent\"><img src=\"https://colab.research.google.com/assets/colab-badge.svg\" alt=\"Open In Colab\"/></a>"
      ]
    },
    {
      "cell_type": "code",
      "metadata": {
        "id": "qNY4n04OCL1J"
      },
      "source": [
        "#import package\r\n",
        "import requests\r\n",
        "from bs4 import BeautifulSoup"
      ],
      "execution_count": 2,
      "outputs": []
    },
    {
      "cell_type": "code",
      "metadata": {
        "colab": {
          "base_uri": "https://localhost:8080/"
        },
        "id": "44ulXratF8zx",
        "outputId": "da5cde32-1740-46e6-9d07-0eccc2e9429e"
      },
      "source": [
        "url=\"https://www.makaan.com/hyderabad-residential-property/buy-property-in-hyderabad-city\"\r\n",
        "response=requests.get(url)\r\n",
        "print(response)"
      ],
      "execution_count": 3,
      "outputs": [
        {
          "output_type": "stream",
          "text": [
            "<Response [200]>\n"
          ],
          "name": "stdout"
        }
      ]
    },
    {
      "cell_type": "code",
      "metadata": {
        "id": "g-Ai2WsBGSKx"
      },
      "source": [
        "#store the response text in the soup object\r\n",
        "soup = BeautifulSoup(response.text,\"html.parser\")\r\n",
        "print(soup.prettify())"
      ],
      "execution_count": null,
      "outputs": []
    },
    {
      "cell_type": "code",
      "metadata": {
        "colab": {
          "base_uri": "https://localhost:8080/"
        },
        "id": "1Kny2Tv8Gtqo",
        "outputId": "d7f90a75-d146-4298-cd9f-033953b58095"
      },
      "source": [
        "seller_info=soup.find_all('span',attrs={'class':'seller-type'})\r\n",
        "print(seller_info)"
      ],
      "execution_count": 7,
      "outputs": [
        {
          "output_type": "stream",
          "text": [
            "[<span class=\"seller-type\">OWNER</span>, <span class=\"seller-type\">OWNER</span>, <span class=\"seller-type\">OWNER</span>, <span class=\"seller-type\">OWNER</span>, <span class=\"seller-type\">OWNER</span>, <span class=\"seller-type\">OWNER</span>, <span class=\"seller-type\">OWNER</span>, <span class=\"seller-type\">OWNER</span>, <span class=\"seller-type\">OWNER</span>, <span class=\"seller-type\">OWNER</span>, <span class=\"seller-type\">OWNER</span>, <span class=\"seller-type\">OWNER</span>, <span class=\"seller-type\">OWNER</span>, <span class=\"seller-type\">OWNER</span>, <span class=\"seller-type\">OWNER</span>, <span class=\"seller-type\">OWNER</span>, <span class=\"seller-type\">OWNER</span>, <span class=\"seller-type\">OWNER</span>, <span class=\"seller-type\">OWNER</span>, <span class=\"seller-type\">OWNER</span>]\n"
          ],
          "name": "stdout"
        }
      ]
    },
    {
      "cell_type": "code",
      "metadata": {
        "colab": {
          "base_uri": "https://localhost:8080/"
        },
        "id": "ZZvO0FU4Hdr2",
        "outputId": "efb178c5-9349-46dd-bf7f-46ddffa1672a"
      },
      "source": [
        "for i in seller_info:\r\n",
        "  print(i.text)"
      ],
      "execution_count": 8,
      "outputs": [
        {
          "output_type": "stream",
          "text": [
            "OWNER\n",
            "OWNER\n",
            "OWNER\n",
            "OWNER\n",
            "OWNER\n",
            "OWNER\n",
            "OWNER\n",
            "OWNER\n",
            "OWNER\n",
            "OWNER\n",
            "OWNER\n",
            "OWNER\n",
            "OWNER\n",
            "OWNER\n",
            "OWNER\n",
            "OWNER\n",
            "OWNER\n",
            "OWNER\n",
            "OWNER\n",
            "OWNER\n"
          ],
          "name": "stdout"
        }
      ]
    },
    {
      "cell_type": "code",
      "metadata": {
        "id": "-KN1Dk9-M7-A"
      },
      "source": [
        ""
      ],
      "execution_count": null,
      "outputs": []
    }
  ]
}