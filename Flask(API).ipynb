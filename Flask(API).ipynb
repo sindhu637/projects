{
  "nbformat": 4,
  "nbformat_minor": 0,
  "metadata": {
    "colab": {
      "name": "Flask(API).ipynb",
      "provenance": [],
      "authorship_tag": "ABX9TyPd86hJjvFHnNgfnhWs9PSx",
      "include_colab_link": true
    },
    "kernelspec": {
      "name": "python3",
      "display_name": "Python 3"
    }
  },
  "cells": [
    {
      "cell_type": "markdown",
      "metadata": {
        "id": "view-in-github",
        "colab_type": "text"
      },
      "source": [
        "<a href=\"https://colab.research.google.com/github/sindhu637/webscraping/blob/main/Flask(API).ipynb\" target=\"_parent\"><img src=\"https://colab.research.google.com/assets/colab-badge.svg\" alt=\"Open In Colab\"/></a>"
      ]
    },
    {
      "cell_type": "code",
      "metadata": {
        "id": "dM9S2sBPWlND"
      },
      "source": [
        "class Employee:\r\n",
        "  \r\n",
        "  ''' Simple class for employees'''\r\n",
        "\r\n",
        "  def __init__(self,fname,lname,age):\r\n",
        "     self.fname = fname\r\n",
        "     self.lname = lname\r\n",
        "     self.age = age\r\n",
        "\r\n",
        "  def email(self) :\r\n",
        "    return self.fname + '.' + self.lname + '@company.com'"
      ],
      "execution_count": 10,
      "outputs": []
    },
    {
      "cell_type": "code",
      "metadata": {
        "colab": {
          "base_uri": "https://localhost:8080/"
        },
        "id": "y6x1OpBMW5CX",
        "outputId": "4966b310-1470-4f1a-944c-9386a1e53657"
      },
      "source": [
        "#instance/object of class employee\r\n",
        "emp_1 = Employee('fname','lname','age')\r\n",
        "emp_2 = Employee('fname','lname','age')\r\n",
        "\r\n",
        "emp_1.fname = 'mona'\r\n",
        "emp_1.lname = 'lisa'\r\n",
        "emp_1.age = 23\r\n",
        "\r\n",
        "emp_2.fname = 'vimala'\r\n",
        "emp_2.lname = 'Kumari'\r\n",
        "emp_2.age = 25\r\n",
        "\r\n",
        "emp_3 = Employee('fname','lname','age')\r\n",
        "emp_3.fname='pavani'\r\n",
        "emp_3.lname='sindhu'\r\n",
        "emp_3.age=22\r\n",
        "\r\n",
        "print(emp_1.fname)\r\n",
        "print(emp_2.fname)\r\n",
        "print(emp_3.age)"
      ],
      "execution_count": 21,
      "outputs": [
        {
          "output_type": "stream",
          "text": [
            "mona\n",
            "vimala\n",
            "22\n"
          ],
          "name": "stdout"
        }
      ]
    },
    {
      "cell_type": "code",
      "metadata": {
        "id": "7ISMDEtHW5bq"
      },
      "source": [
        "emp_1 = Employee('mona','lisa',23)\r\n",
        "emp_2 = Employee('vimala','Kumari',25)\r\n",
        "emp_3 = Employee('pavani','sindhu',24)"
      ],
      "execution_count": 22,
      "outputs": []
    },
    {
      "cell_type": "code",
      "metadata": {
        "colab": {
          "base_uri": "https://localhost:8080/"
        },
        "id": "2X1APTskW5f6",
        "outputId": "b6c79877-a246-45d4-af14-9fa35441c0ec"
      },
      "source": [
        "print(emp_1.email())\r\n",
        "print(emp_2.email())\r\n",
        "print(emp_3.email())"
      ],
      "execution_count": 24,
      "outputs": [
        {
          "output_type": "stream",
          "text": [
            "mona.lisa@company.com\n",
            "vimala.Kumari@company.com\n",
            "pavani.sindhu@company.com\n"
          ],
          "name": "stdout"
        }
      ]
    },
    {
      "cell_type": "code",
      "metadata": {
        "id": "27Ve653Ivs3x"
      },
      "source": [
        "#import haslib\n",
        "import hashlib"
      ],
      "execution_count": 25,
      "outputs": []
    },
    {
      "cell_type": "code",
      "metadata": {
        "id": "OFQY4d0WW5t6"
      },
      "source": [
        "users = {}\r\n",
        "\r\n",
        "class Register(object):\r\n",
        "  '''Basic Registration using API'''\r\n",
        "\r\n",
        "  def __init__(self,app):\r\n",
        "    self.app = app\r\n",
        "\r\n",
        "  def signup(self,username,password):\r\n",
        "    hash = hashlib.md5(password.encode())\r\n",
        "    users.update({username: hash.hexdigest()})\r\n",
        "\r\n",
        "  def login(self,username,password):\r\n",
        "    hash = hashlib.md5(password.encode())\r\n",
        "    if users[username] == hash.hexdigest():\r\n",
        "      return True\r\n",
        "    else : \r\n",
        "      return False"
      ],
      "execution_count": 27,
      "outputs": []
    },
    {
      "cell_type": "code",
      "metadata": {
        "id": "Nq6jDjoTW5yO"
      },
      "source": [
        "u1 = Register('object1')\r\n",
        "u1.signup('sindhu','mareedu')"
      ],
      "execution_count": 28,
      "outputs": []
    },
    {
      "cell_type": "code",
      "metadata": {
        "colab": {
          "base_uri": "https://localhost:8080/"
        },
        "id": "IdSNwQuJW52m",
        "outputId": "212feb91-f0bd-43d8-8c5d-fde0e77d7c45"
      },
      "source": [
        "users"
      ],
      "execution_count": 29,
      "outputs": [
        {
          "output_type": "execute_result",
          "data": {
            "text/plain": [
              "{'sindhu': '3dd046179fc9aa7e0b66007a5e73a78d'}"
            ]
          },
          "metadata": {
            "tags": []
          },
          "execution_count": 29
        }
      ]
    },
    {
      "cell_type": "code",
      "metadata": {
        "colab": {
          "base_uri": "https://localhost:8080/"
        },
        "id": "Td316SGsdjgu",
        "outputId": "a282cf6b-b433-40e3-d416-0a28988d5280"
      },
      "source": [
        "u1.login('sindhu','mareedu')"
      ],
      "execution_count": 30,
      "outputs": [
        {
          "output_type": "execute_result",
          "data": {
            "text/plain": [
              "True"
            ]
          },
          "metadata": {
            "tags": []
          },
          "execution_count": 30
        }
      ]
    },
    {
      "cell_type": "code",
      "metadata": {
        "colab": {
          "base_uri": "https://localhost:8080/"
        },
        "id": "pKfGBbVGdjm4",
        "outputId": "7de7bf82-db63-42bd-b358-4665bfd068c3"
      },
      "source": [
        "!pip install flask-ngrok"
      ],
      "execution_count": 31,
      "outputs": [
        {
          "output_type": "stream",
          "text": [
            "Collecting flask-ngrok\n",
            "  Downloading https://files.pythonhosted.org/packages/af/6c/f54cb686ad1129e27d125d182f90f52b32f284e6c8df58c1bae54fa1adbc/flask_ngrok-0.0.25-py3-none-any.whl\n",
            "Requirement already satisfied: Flask>=0.8 in /usr/local/lib/python3.6/dist-packages (from flask-ngrok) (1.1.2)\n",
            "Requirement already satisfied: requests in /usr/local/lib/python3.6/dist-packages (from flask-ngrok) (2.23.0)\n",
            "Requirement already satisfied: itsdangerous>=0.24 in /usr/local/lib/python3.6/dist-packages (from Flask>=0.8->flask-ngrok) (1.1.0)\n",
            "Requirement already satisfied: click>=5.1 in /usr/local/lib/python3.6/dist-packages (from Flask>=0.8->flask-ngrok) (7.1.2)\n",
            "Requirement already satisfied: Werkzeug>=0.15 in /usr/local/lib/python3.6/dist-packages (from Flask>=0.8->flask-ngrok) (1.0.1)\n",
            "Requirement already satisfied: Jinja2>=2.10.1 in /usr/local/lib/python3.6/dist-packages (from Flask>=0.8->flask-ngrok) (2.11.2)\n",
            "Requirement already satisfied: certifi>=2017.4.17 in /usr/local/lib/python3.6/dist-packages (from requests->flask-ngrok) (2020.12.5)\n",
            "Requirement already satisfied: idna<3,>=2.5 in /usr/local/lib/python3.6/dist-packages (from requests->flask-ngrok) (2.10)\n",
            "Requirement already satisfied: chardet<4,>=3.0.2 in /usr/local/lib/python3.6/dist-packages (from requests->flask-ngrok) (3.0.4)\n",
            "Requirement already satisfied: urllib3!=1.25.0,!=1.25.1,<1.26,>=1.21.1 in /usr/local/lib/python3.6/dist-packages (from requests->flask-ngrok) (1.24.3)\n",
            "Requirement already satisfied: MarkupSafe>=0.23 in /usr/local/lib/python3.6/dist-packages (from Jinja2>=2.10.1->Flask>=0.8->flask-ngrok) (1.1.1)\n",
            "Installing collected packages: flask-ngrok\n",
            "Successfully installed flask-ngrok-0.0.25\n"
          ],
          "name": "stdout"
        }
      ]
    },
    {
      "cell_type": "code",
      "metadata": {
        "colab": {
          "base_uri": "https://localhost:8080/"
        },
        "id": "qAUGzgSJdjtI",
        "outputId": "7de6424e-f302-4581-a8fa-77c78cc1ee9c"
      },
      "source": [
        "from flask import Flask\r\n",
        "from flask_ngrok import run_with_ngrok\r\n",
        "\r\n",
        "app = Flask(__name__)\r\n",
        "\r\n",
        "userobj = Register('obj')\r\n",
        "run_with_ngrok(app)\r\n",
        "\r\n",
        "@app.route(\"/\")\r\n",
        "def index():\r\n",
        "  return \"forsignnup> /signup/username/password, forlogin : /login/username/password\"\r\n",
        "\r\n",
        "@app.route(\"/signup/<username>/<password>\")\r\n",
        "def reg(username,password):\r\n",
        "  userobj.signup(username,password)\r\n",
        "  return \"{} successfuly registered\".format(username)\r\n",
        "\r\n",
        "@app.route(\"/login/<username>/<password>\")\r\n",
        "def login(username,password):\r\n",
        "  auth = userobj.login(username,password)\r\n",
        "  if auth:\r\n",
        "    return 'Login successful for {}'.format(username)\r\n",
        "  else:\r\n",
        "    return  'Worng password'\r\n",
        "\r\n",
        "@app.route(\"/users\")\r\n",
        "def data():\r\n",
        "  return users\r\n",
        "\r\n",
        "app.run()"
      ],
      "execution_count": null,
      "outputs": [
        {
          "output_type": "stream",
          "text": [
            " * Serving Flask app \"__main__\" (lazy loading)\n",
            " * Environment: production\n",
            "\u001b[31m   WARNING: This is a development server. Do not use it in a production deployment.\u001b[0m\n",
            "\u001b[2m   Use a production WSGI server instead.\u001b[0m\n",
            " * Debug mode: off\n"
          ],
          "name": "stdout"
        },
        {
          "output_type": "stream",
          "text": [
            " * Running on http://127.0.0.1:5000/ (Press CTRL+C to quit)\n"
          ],
          "name": "stderr"
        },
        {
          "output_type": "stream",
          "text": [
            " * Running on http://5a741b234de9.ngrok.io\n",
            " * Traffic stats available on http://127.0.0.1:4040\n"
          ],
          "name": "stdout"
        },
        {
          "output_type": "stream",
          "text": [
            "127.0.0.1 - - [25/Dec/2020 10:35:04] \"\u001b[37mGET / HTTP/1.1\u001b[0m\" 200 -\n",
            "127.0.0.1 - - [25/Dec/2020 10:35:05] \"\u001b[33mGET /favicon.ico HTTP/1.1\u001b[0m\" 404 -\n",
            "127.0.0.1 - - [25/Dec/2020 10:35:42] \"\u001b[33mGET /sindhu/mareedu HTTP/1.1\u001b[0m\" 404 -\n",
            "127.0.0.1 - - [25/Dec/2020 10:36:08] \"\u001b[37mGET / HTTP/1.1\u001b[0m\" 200 -\n",
            "127.0.0.1 - - [25/Dec/2020 10:36:36] \"\u001b[37mGET /login/sindhu/mareedu HTTP/1.1\u001b[0m\" 200 -\n"
          ],
          "name": "stderr"
        }
      ]
    }
  ]
}